{
 "cells": [
  {
   "cell_type": "markdown",
   "metadata": {},
   "source": [
    "## student_data.head()"
   ]
  },
  {
   "cell_type": "code",
   "execution_count": 18,
   "metadata": {},
   "outputs": [
    {
     "name": "stdout",
     "output_type": "stream",
     "text": [
      "   gender race/ethnicity parental level of education         lunch  \\\n",
      "0  female        group B           bachelor's degree      standard   \n",
      "1  female        group C                some college      standard   \n",
      "2  female        group B             master's degree      standard   \n",
      "3    male        group A          associate's degree  free/reduced   \n",
      "4    male        group C                some college      standard   \n",
      "\n",
      "  test preparation course  math score  reading score  writing score  \n",
      "0                    none          72             72             74  \n",
      "1               completed          69             90             88  \n",
      "2                    none          90             95             93  \n",
      "3                    none          47             57             44  \n",
      "4                    none          76             78             75  \n",
      "1000\n",
      "88\n",
      "<class 'pandas.core.frame.DataFrame'>\n",
      "RangeIndex: 1000 entries, 0 to 999\n",
      "Data columns (total 8 columns):\n",
      " #   Column                       Non-Null Count  Dtype \n",
      "---  ------                       --------------  ----- \n",
      " 0   gender                       1000 non-null   object\n",
      " 1   race/ethnicity               1000 non-null   object\n",
      " 2   parental level of education  1000 non-null   object\n",
      " 3   lunch                        1000 non-null   object\n",
      " 4   test preparation course      1000 non-null   object\n",
      " 5   math score                   1000 non-null   int64 \n",
      " 6   reading score                1000 non-null   int64 \n",
      " 7   writing score                1000 non-null   int64 \n",
      "dtypes: int64(3), object(5)\n",
      "memory usage: 62.6+ KB\n",
      "None\n",
      "66\n",
      "   gender race/ethnicity parental level of education     lunch  \\\n",
      "0  female        group C                some college  standard   \n",
      "\n",
      "  test preparation course  math score  reading score  writing score  \n",
      "0                    none          65             72             74  \n",
      "74\n",
      "1\n",
      "70.03410852713178\n",
      "58.92112676056338\n",
      "some college          0.226\n",
      "associate's degree    0.222\n",
      "high school           0.196\n",
      "some high school      0.179\n",
      "bachelor's degree     0.118\n",
      "master's degree       0.059\n",
      "Name: parental level of education, dtype: float64\n",
      "6\n"
     ]
    }
   ],
   "source": [
    "import pandas as pd\n",
    "student_data = pd.read_csv('students_performance.csv', sep=',')\n",
    "print(student_data.head())\n",
    "## Данные о скольких студентах содержатся в таблице?\n",
    "print(student_data.shape[0])\n",
    "## Каков балл по письму у студента под индексом 155?\n",
    "print(student_data.loc[155, 'writing score'])\n",
    "## Сколько суммарно пропущенных значений в таблице?\n",
    "## Сколько столбцов в таблице имеет тип данных object?\n",
    "## Какой объём памяти (в килобайтах) занимает таблица?\n",
    "print(student_data.info())\n",
    "##Каков у студентов средний балл по математике?\n",
    "print(int(student_data['math score'].mean()))\n",
    "## Какая расовая группа является самой крупной в учебном заведении?\n",
    "print(student_data.mode())\n",
    "##Каков средний балл по чтению у студентов, которые посещали курсы подготовки к экзаменам?\n",
    "print(round(student_data[student_data['test preparation course'] == 'completed']['reading score'].mean()))\n",
    "## Сколько студентов получили 0 баллов по математике?\n",
    "print(student_data[student_data['math score'] == 0].shape[0])\n",
    "##Проверьте гипотезу: у студентов с оплачиваемым питанием средний балл по математике выше, чем у студентов с льготным питанием.\n",
    "##В качестве ответа напишите наибольший средний балл по математике среди этих групп студентов.\n",
    "print(student_data[student_data['lunch'] == 'standard']['math score'].mean())\n",
    "print(student_data[student_data['lunch'] == 'free/reduced']['math score'].mean())\n",
    "##Каков процент студентов, родители которых имеют высшее образование уровня бакалавриата (bachelor's degree)?\n",
    "print(student_data[\"parental level of education\"].value_counts(normalize=True))\n",
    "##Насколько медианный балл по письму у студентов в расовой группе А отличается от среднего балла по письму у студентов в расовой группе C?\n",
    "a = student_data[student_data['race/ethnicity'] == 'group A']['writing score'].median()\n",
    "b = student_data[student_data['race/ethnicity'] == 'group C']['writing score'].mean()\n",
    "print(round(abs(a - b)))\n",
    "\n",
    "\n",
    "\n"
   ]
  }
 ],
 "metadata": {
  "interpreter": {
   "hash": "f6d7686a5da26883c99a55231209c9154191d4c53d43288002f026027fd18f07"
  },
  "kernelspec": {
   "display_name": "Python 3.9.10 64-bit (system)",
   "language": "python",
   "name": "python3"
  },
  "language_info": {
   "codemirror_mode": {
    "name": "ipython",
    "version": 3
   },
   "file_extension": ".py",
   "mimetype": "text/x-python",
   "name": "python",
   "nbconvert_exporter": "python",
   "pygments_lexer": "ipython3",
   "version": "3.9.10"
  },
  "orig_nbformat": 4
 },
 "nbformat": 4,
 "nbformat_minor": 2
}
