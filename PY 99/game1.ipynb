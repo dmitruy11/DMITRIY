{
 "cells": [
  {
   "cell_type": "code",
   "execution_count": 8,
   "metadata": {},
   "outputs": [],
   "source": [
    "\n",
    "def guess_number(number: int = 1) -> int:\n",
    "    \"\"\"Угадывает число не более чем за 20 попыток.\n",
    "\n",
    "    Args:\n",
    "        number (int, optional): Загаданное число. Defaults to 1.\n",
    "\n",
    "    Returns:\n",
    "        int: Количество попыток\n",
    "\n",
    "    \"\"\"\n",
    "\n",
    "    # количество попыток\n",
    "    count = 0\n",
    "    # нижняя и верхняя границы \"диапазона угадывания\"\n",
    "    # (lower bound and upper bound)\n",
    "    l_bound, u_bound = 1, 101\n",
    "\n",
    "    while True:\n",
    "        count += 1\n",
    "        answer = l_bound + (u_bound - l_bound)//2\n",
    "        if answer == number:\n",
    "            return count\n",
    "        l_bound, u_bound = ((answer, u_bound) if answer < number else\n",
    "                            (l_bound, answer))"
   ]
  },
  {
   "cell_type": "code",
   "execution_count": 35,
   "metadata": {},
   "outputs": [],
   "source": [
    "from numpy import random, mean\n",
    "\n",
    "\n",
    "def score_game(random_predict) -> int:\n",
    "    \"\"\"Среднее количество попыток, за которое функция\n",
    "    угадывает число от 1 до 100. Определяется за 1000 вызовов функции.\n",
    "\n",
    "    Args:\n",
    "        random_predict (function): функция, которая угадывает число.\n",
    "\n",
    "    Returns:\n",
    "        int: среднее количество попыток\n",
    "\n",
    "    \"\"\"\n",
    "\n",
    "    random.seed()\n",
    "    random_array = random.randint(1, 101, size=1000)\n",
    "    score = [random_predict(number) for number in random_array]\n",
    "    score = mean(score)\n",
    "    score = int(round(score))\n",
    "    print(f\"Ваш алгоритм угадывает число в среднем за {score} попыток\")\n",
    "    return score"
   ]
  },
  {
   "cell_type": "code",
   "execution_count": 37,
   "metadata": {},
   "outputs": [
    {
     "name": "stdout",
     "output_type": "stream",
     "text": [
      "Ваш алгоритм угадывает число в среднем за 6 попыток\n"
     ]
    },
    {
     "data": {
      "text/plain": [
       "6"
      ]
     },
     "execution_count": 37,
     "metadata": {},
     "output_type": "execute_result"
    }
   ],
   "source": [
    "score_game(guess_number)"
   ]
  }
 ],
 "metadata": {
  "kernelspec": {
   "display_name": "Python 3.9.10 64-bit",
   "language": "python",
   "name": "python3"
  },
  "language_info": {
   "codemirror_mode": {
    "name": "ipython",
    "version": 3
   },
   "file_extension": ".py",
   "mimetype": "text/x-python",
   "name": "python",
   "nbconvert_exporter": "python",
   "pygments_lexer": "ipython3",
   "version": "3.9.10"
  },
  "orig_nbformat": 4,
  "vscode": {
   "interpreter": {
    "hash": "f6d7686a5da26883c99a55231209c9154191d4c53d43288002f026027fd18f07"
   }
  }
 },
 "nbformat": 4,
 "nbformat_minor": 2
}
